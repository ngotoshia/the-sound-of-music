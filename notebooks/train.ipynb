{
 "cells": [
  {
   "cell_type": "code",
   "execution_count": 1,
   "metadata": {},
   "outputs": [
    {
     "name": "stderr",
     "output_type": "stream",
     "text": [
      "Using TensorFlow backend.\n"
     ]
    }
   ],
   "source": [
    "import os \n",
    "import sys\n",
    "\n",
    "sys.path.append('..')\n",
    "\n",
    "import numpy as np\n",
    "import matplotlib.pyplot as plt\n",
    "import keras\n",
    "from keras.models import Sequential\n",
    "from keras.layers import TimeDistributed, Dense, Conv2D, MaxPooling2D, Dropout, LSTM, Bidirectional, Flatten \n",
    "from sklearn.metrics import auc, f1_score, precision_score, recall_score, roc_curve\n",
    "\n"
   ]
  },
  {
   "cell_type": "code",
   "execution_count": 2,
   "metadata": {},
   "outputs": [
    {
     "name": "stdout",
     "output_type": "stream",
     "text": [
      "(11506, 88)\n",
      "(11500, 88)\n",
      "(4806, 88)\n",
      "(4800, 88)\n"
     ]
    }
   ],
   "source": [
    "x_train = np.load(os.path.join('../train_data_proc','x_0.npy'))\n",
    "y_train = np.load(os.path.join('../train_data_proc', 'y_0.npy'))\n",
    "\n",
    "x_test = np.load(os.path.join('../test_data_proc','x_0.npy'))\n",
    "y_test = np.load(os.path.join('../test_data_proc', 'y_0.npy'))\n",
    "\n",
    "print(x_train.shape)\n",
    "print(y_train.shape)\n",
    "\n",
    "print(x_test.shape)\n",
    "print(y_test.shape)"
   ]
  },
  {
   "cell_type": "code",
   "execution_count": 3,
   "metadata": {},
   "outputs": [],
   "source": [
    "context_window_size = 7\n",
    "frequencies_size = x_train.shape[1]\n",
    "sequence_size = 100\n",
    "batch_size = 1\n",
    "\n",
    "output_shape = y_train.shape[1]"
   ]
  },
  {
   "cell_type": "code",
   "execution_count": 4,
   "metadata": {},
   "outputs": [],
   "source": [
    "keras.backend.clear_session()"
   ]
  },
  {
   "cell_type": "code",
   "execution_count": 5,
   "metadata": {},
   "outputs": [
    {
     "name": "stdout",
     "output_type": "stream",
     "text": [
      "WARNING:tensorflow:From /home/nini/anaconda3/envs/tsom/lib/python3.7/site-packages/tensorflow/python/framework/op_def_library.py:263: colocate_with (from tensorflow.python.framework.ops) is deprecated and will be removed in a future version.\n",
      "Instructions for updating:\n",
      "Colocations handled automatically by placer.\n",
      "WARNING:tensorflow:From /home/nini/anaconda3/envs/tsom/lib/python3.7/site-packages/keras/backend/tensorflow_backend.py:3445: calling dropout (from tensorflow.python.ops.nn_ops) with keep_prob is deprecated and will be removed in a future version.\n",
      "Instructions for updating:\n",
      "Please use `rate` instead of `keep_prob`. Rate should be set to `rate = 1 - keep_prob`.\n"
     ]
    }
   ],
   "source": [
    "model = Sequential()\n",
    "model.add(TimeDistributed(\n",
    "    Conv2D(64, (3,3), activation='relu'), \\\n",
    "           input_shape=(sequence_size, context_window_size,frequencies_size,1)\n",
    "    )\n",
    ")\n",
    "model.add(Dropout(0.5))\n",
    "model.add(TimeDistributed(MaxPooling2D((1,3), strides=(1,1))))\n",
    "          \n",
    "model.add(TimeDistributed(Conv2D(128, (1,3), activation='relu')))\n",
    "model.add(Dropout(0.5))\n",
    "model.add(TimeDistributed(MaxPooling2D((1,3), strides=(1,1))))\n",
    "\n",
    "model.add(TimeDistributed(Flatten()))\n",
    "\n",
    "model.add(TimeDistributed(Dense(200)))\n",
    "model.add(Dropout(0.5))\n",
    "\n",
    "model.add(Bidirectional(LSTM(128, return_sequences=True, dropout=0.5), merge_mode ='ave'))\n",
    "\n",
    "model.add(TimeDistributed(Dense(output_shape, activation='sigmoid')))\n",
    "model.compile(loss='categorical_crossentropy', optimizer='adam')\n",
    "          \n"
   ]
  },
  {
   "cell_type": "code",
   "execution_count": 6,
   "metadata": {},
   "outputs": [
    {
     "name": "stdout",
     "output_type": "stream",
     "text": [
      "(<tf.Tensor 'time_distributed_1_input:0' shape=(?, 100, 7, 88, 1) dtype=float32>, <tf.Tensor 'time_distributed_1/Reshape_1:0' shape=(?, 100, 5, 86, 64) dtype=float32>)\n",
      "(<tf.Tensor 'time_distributed_1/Reshape_1:0' shape=(?, 100, 5, 86, 64) dtype=float32>, <tf.Tensor 'dropout_1/cond/Merge:0' shape=(?, 100, 5, 86, 64) dtype=float32>)\n",
      "(<tf.Tensor 'dropout_1/cond/Merge:0' shape=(?, 100, 5, 86, 64) dtype=float32>, <tf.Tensor 'time_distributed_2/Reshape_1:0' shape=(?, 100, 5, 84, 64) dtype=float32>)\n",
      "(<tf.Tensor 'time_distributed_2/Reshape_1:0' shape=(?, 100, 5, 84, 64) dtype=float32>, <tf.Tensor 'time_distributed_3/Reshape_1:0' shape=(?, 100, 5, 82, 128) dtype=float32>)\n",
      "(<tf.Tensor 'time_distributed_3/Reshape_1:0' shape=(?, 100, 5, 82, 128) dtype=float32>, <tf.Tensor 'dropout_2/cond/Merge:0' shape=(?, 100, 5, 82, 128) dtype=float32>)\n",
      "(<tf.Tensor 'dropout_2/cond/Merge:0' shape=(?, 100, 5, 82, 128) dtype=float32>, <tf.Tensor 'time_distributed_4/Reshape_1:0' shape=(?, 100, 5, 80, 128) dtype=float32>)\n",
      "(<tf.Tensor 'time_distributed_4/Reshape_1:0' shape=(?, 100, 5, 80, 128) dtype=float32>, <tf.Tensor 'time_distributed_5/Reshape_2:0' shape=(?, 100, 51200) dtype=float32>)\n",
      "(<tf.Tensor 'time_distributed_5/Reshape_2:0' shape=(?, 100, 51200) dtype=float32>, <tf.Tensor 'time_distributed_6/Reshape_1:0' shape=(?, 100, 200) dtype=float32>)\n",
      "(<tf.Tensor 'time_distributed_6/Reshape_1:0' shape=(?, 100, 200) dtype=float32>, <tf.Tensor 'dropout_3/cond/Merge:0' shape=(?, 100, 200) dtype=float32>)\n",
      "(<tf.Tensor 'dropout_3/cond/Merge:0' shape=(?, 100, 200) dtype=float32>, <tf.Tensor 'bidirectional_1/truediv:0' shape=(?, ?, 128) dtype=float32>)\n",
      "(<tf.Tensor 'bidirectional_1/truediv:0' shape=(?, ?, 128) dtype=float32>, <tf.Tensor 'time_distributed_7/Reshape_1:0' shape=(?, 100, 88) dtype=float32>)\n"
     ]
    }
   ],
   "source": [
    "inp = model.input                                           # input placeholder\n",
    "outputs = [(layer.input,layer.output) for layer in model.layers]          # all layer outputs\n",
    "print ('\\n'.join(map(str,outputs)))"
   ]
  },
  {
   "cell_type": "code",
   "execution_count": 7,
   "metadata": {},
   "outputs": [],
   "source": [
    "import datagen"
   ]
  },
  {
   "cell_type": "code",
   "execution_count": 8,
   "metadata": {},
   "outputs": [],
   "source": [
    "import importlib\n",
    "datagen = importlib.reload(datagen)"
   ]
  },
  {
   "cell_type": "code",
   "execution_count": 9,
   "metadata": {},
   "outputs": [
    {
     "name": "stdout",
     "output_type": "stream",
     "text": [
      "11500\n",
      "now listing inputs\n",
      "['x_0.npy']\n",
      "now listing outputs\n",
      "['y_0.npy']\n"
     ]
    }
   ],
   "source": [
    "data_generator = datagen.DataGenerator('./train_data_proc/', 100,256, 7, 'x_[0-9]+.npy', 'y_[0-9]+.npy')"
   ]
  },
  {
   "cell_type": "code",
   "execution_count": 10,
   "metadata": {},
   "outputs": [
    {
     "name": "stdout",
     "output_type": "stream",
     "text": [
      "<datagen.DataGenerator object at 0x7f6bbc690a20>\n"
     ]
    }
   ],
   "source": [
    "print(data_generator)\n"
   ]
  },
  {
   "cell_type": "code",
   "execution_count": 11,
   "metadata": {
    "scrolled": true
   },
   "outputs": [
    {
     "name": "stdout",
     "output_type": "stream",
     "text": [
      "WARNING:tensorflow:From /home/nini/anaconda3/envs/tsom/lib/python3.7/site-packages/tensorflow/python/ops/math_ops.py:3066: to_int32 (from tensorflow.python.ops.math_ops) is deprecated and will be removed in a future version.\n",
      "Instructions for updating:\n",
      "Use tf.cast instead.\n",
      "Epoch 1/20\n",
      "starting\n",
      "y_0.npy\n",
      "104/115 [==========================>...] - ETA: 6s - loss: 7.9998one up\n",
      "y_0.npy\n",
      "115/115 [==============================] - 69s 600ms/step - loss: 8.0448\n",
      "Epoch 2/20\n",
      "104/115 [==========================>...] - ETA: 5s - loss: 7.2973one up\n",
      "y_0.npy\n",
      "115/115 [==============================] - 61s 530ms/step - loss: 7.3820\n",
      "Epoch 3/20\n",
      "104/115 [==========================>...] - ETA: 5s - loss: 7.0934one up\n",
      "y_0.npy\n",
      "115/115 [==============================] - 61s 529ms/step - loss: 7.1735\n",
      "Epoch 4/20\n",
      "104/115 [==========================>...] - ETA: 5s - loss: 6.8879one up\n",
      "y_0.npy\n",
      "115/115 [==============================] - 61s 527ms/step - loss: 6.9644\n",
      "Epoch 5/20\n",
      "104/115 [==========================>...] - ETA: 5s - loss: 6.6966one up\n",
      "y_0.npy\n",
      "115/115 [==============================] - 61s 529ms/step - loss: 6.7630\n",
      "Epoch 6/20\n",
      "104/115 [==========================>...] - ETA: 5s - loss: 6.4410one up\n",
      "y_0.npy\n",
      "115/115 [==============================] - 61s 530ms/step - loss: 6.5107\n",
      "Epoch 7/20\n",
      "104/115 [==========================>...] - ETA: 5s - loss: 6.2446one up\n",
      "y_0.npy\n",
      "115/115 [==============================] - 61s 530ms/step - loss: 6.2995\n",
      "Epoch 8/20\n",
      "104/115 [==========================>...] - ETA: 5s - loss: 5.9949one up\n",
      "y_0.npy\n",
      "115/115 [==============================] - 61s 530ms/step - loss: 6.0439\n",
      "Epoch 9/20\n",
      "104/115 [==========================>...] - ETA: 5s - loss: 5.7838one up\n",
      "y_0.npy\n",
      "115/115 [==============================] - 61s 531ms/step - loss: 5.8354\n",
      "Epoch 10/20\n",
      "104/115 [==========================>...] - ETA: 5s - loss: 5.4775one up\n",
      "y_0.npy\n",
      "115/115 [==============================] - 61s 530ms/step - loss: 5.5267\n",
      "Epoch 11/20\n",
      "104/115 [==========================>...] - ETA: 5s - loss: 5.2216one up\n",
      "y_0.npy\n",
      "115/115 [==============================] - 61s 531ms/step - loss: 5.2756\n",
      "Epoch 12/20\n",
      "104/115 [==========================>...] - ETA: 5s - loss: 5.0898one up\n",
      "y_0.npy\n",
      "115/115 [==============================] - 61s 532ms/step - loss: 5.1440\n",
      "Epoch 13/20\n",
      "104/115 [==========================>...] - ETA: 5s - loss: 4.8980one up\n",
      "y_0.npy\n",
      "115/115 [==============================] - 61s 532ms/step - loss: 4.9562\n",
      "Epoch 14/20\n",
      "104/115 [==========================>...] - ETA: 5s - loss: 4.7789one up\n",
      "y_0.npy\n",
      "115/115 [==============================] - 61s 533ms/step - loss: 4.8344\n",
      "Epoch 15/20\n",
      "104/115 [==========================>...] - ETA: 5s - loss: 4.6495one up\n",
      "y_0.npy\n",
      "115/115 [==============================] - 61s 532ms/step - loss: 4.7073\n",
      "Epoch 16/20\n",
      "104/115 [==========================>...] - ETA: 5s - loss: 4.4773one up\n",
      "y_0.npy\n",
      "115/115 [==============================] - 61s 532ms/step - loss: 4.5457\n",
      "Epoch 17/20\n",
      "104/115 [==========================>...] - ETA: 5s - loss: 4.3714one up\n",
      "y_0.npy\n",
      "115/115 [==============================] - 61s 532ms/step - loss: 4.4342\n",
      "Epoch 18/20\n",
      "104/115 [==========================>...] - ETA: 5s - loss: 4.2531one up\n",
      "y_0.npy\n",
      "115/115 [==============================] - 61s 531ms/step - loss: 4.3233\n",
      "Epoch 19/20\n",
      "104/115 [==========================>...] - ETA: 5s - loss: 4.1589one up\n",
      "y_0.npy\n",
      "115/115 [==============================] - 61s 533ms/step - loss: 4.2262\n",
      "Epoch 20/20\n",
      "104/115 [==========================>...] - ETA: 5s - loss: 4.0726one up\n",
      "y_0.npy\n",
      "115/115 [==============================] - 61s 532ms/step - loss: 4.1422\n"
     ]
    },
    {
     "data": {
      "text/plain": [
       "<keras.callbacks.History at 0x7f6b8bef1780>"
      ]
     },
     "execution_count": 11,
     "metadata": {},
     "output_type": "execute_result"
    }
   ],
   "source": [
    "model.fit_generator(generator=data_generator.__getitem__(),\n",
    "                    use_multiprocessing=False,\n",
    "                     epochs=20, steps_per_epoch=data_generator.__len__())"
   ]
  },
  {
   "cell_type": "code",
   "execution_count": 12,
   "metadata": {},
   "outputs": [
    {
     "name": "stdout",
     "output_type": "stream",
     "text": [
      "4800\n",
      "now listing inputs\n",
      "['x_0.npy']\n",
      "now listing outputs\n",
      "['y_0.npy']\n"
     ]
    }
   ],
   "source": [
    "test_generator= datagen.DataGenerator('../test_data_proc/', 100,256, 7, 'x_[0-9]+.npy', 'y_[0-9]+.npy')\n"
   ]
  },
  {
   "cell_type": "code",
   "execution_count": 13,
   "metadata": {},
   "outputs": [
    {
     "name": "stdout",
     "output_type": "stream",
     "text": [
      "48\n",
      "y_0.npy\n",
      "one up\n"
     ]
    }
   ],
   "source": [
    "print(test_generator.__len__())\n",
    "predictions = model.predict_generator(generator=test_generator.__getitemtest__(),steps=test_generator.__len__())"
   ]
  },
  {
   "cell_type": "code",
   "execution_count": 14,
   "metadata": {},
   "outputs": [
    {
     "name": "stdout",
     "output_type": "stream",
     "text": [
      "(48, 100, 88)\n"
     ]
    }
   ],
   "source": [
    "print(predictions.shape)"
   ]
  },
  {
   "cell_type": "code",
   "execution_count": 15,
   "metadata": {},
   "outputs": [],
   "source": [
    "predictions = np.reshape(predictions, (predictions.shape[0]*predictions.shape[1], predictions.shape[2]))"
   ]
  },
  {
   "cell_type": "code",
   "execution_count": 16,
   "metadata": {},
   "outputs": [
    {
     "data": {
      "text/plain": [
       "(4800, 88)"
      ]
     },
     "execution_count": 16,
     "metadata": {},
     "output_type": "execute_result"
    }
   ],
   "source": [
    "predictions.shape"
   ]
  },
  {
   "cell_type": "code",
   "execution_count": 17,
   "metadata": {},
   "outputs": [],
   "source": [
    "labels = np.array([item for item in test_generator.__getitemtestlabels__()])[0]"
   ]
  },
  {
   "cell_type": "code",
   "execution_count": 18,
   "metadata": {},
   "outputs": [
    {
     "data": {
      "text/plain": [
       "(4800, 88)"
      ]
     },
     "execution_count": 18,
     "metadata": {},
     "output_type": "execute_result"
    }
   ],
   "source": [
    "labels.shape"
   ]
  },
  {
   "cell_type": "code",
   "execution_count": 19,
   "metadata": {},
   "outputs": [],
   "source": [
    "model.save('shitty_LSTM')"
   ]
  },
  {
   "cell_type": "code",
   "execution_count": 20,
   "metadata": {},
   "outputs": [
    {
     "data": {
      "text/plain": [
       "115"
      ]
     },
     "execution_count": 20,
     "metadata": {},
     "output_type": "execute_result"
    }
   ],
   "source": [
    "data_generator.__len__()"
   ]
  },
  {
   "cell_type": "code",
   "execution_count": null,
   "metadata": {},
   "outputs": [],
   "source": []
  }
 ],
 "metadata": {
  "kernelspec": {
   "display_name": "tsom",
   "language": "python",
   "name": "tsom"
  },
  "language_info": {
   "codemirror_mode": {
    "name": "ipython",
    "version": 3
   },
   "file_extension": ".py",
   "mimetype": "text/x-python",
   "name": "python",
   "nbconvert_exporter": "python",
   "pygments_lexer": "ipython3",
   "version": "3.7.3"
  }
 },
 "nbformat": 4,
 "nbformat_minor": 2
}

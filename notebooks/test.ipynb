{
 "cells": [
  {
   "cell_type": "code",
   "execution_count": 1,
   "metadata": {},
   "outputs": [
    {
     "name": "stderr",
     "output_type": "stream",
     "text": [
      "Using TensorFlow backend.\n"
     ]
    }
   ],
   "source": [
    "import os \n",
    "import sys\n",
    "\n",
    "sys.path.append('..')\n",
    "\n",
    "import numpy as np\n",
    "import matplotlib.pyplot as plt\n",
    "import keras\n",
    "from keras.models import Sequential, load_model\n",
    "\n",
    "import pretty_midi"
   ]
  },
  {
   "cell_type": "code",
   "execution_count": 2,
   "metadata": {},
   "outputs": [
    {
     "name": "stdout",
     "output_type": "stream",
     "text": [
      "WARNING:tensorflow:From /home/nini/anaconda3/envs/tsom/lib/python3.7/site-packages/tensorflow/python/framework/op_def_library.py:263: colocate_with (from tensorflow.python.framework.ops) is deprecated and will be removed in a future version.\n",
      "Instructions for updating:\n",
      "Colocations handled automatically by placer.\n",
      "WARNING:tensorflow:From /home/nini/anaconda3/envs/tsom/lib/python3.7/site-packages/keras/backend/tensorflow_backend.py:3445: calling dropout (from tensorflow.python.ops.nn_ops) with keep_prob is deprecated and will be removed in a future version.\n",
      "Instructions for updating:\n",
      "Please use `rate` instead of `keep_prob`. Rate should be set to `rate = 1 - keep_prob`.\n",
      "WARNING:tensorflow:From /home/nini/anaconda3/envs/tsom/lib/python3.7/site-packages/tensorflow/python/ops/math_ops.py:3066: to_int32 (from tensorflow.python.ops.math_ops) is deprecated and will be removed in a future version.\n",
      "Instructions for updating:\n",
      "Use tf.cast instead.\n"
     ]
    }
   ],
   "source": [
    "model = load_model('shitty_LSTM.h5')"
   ]
  },
  {
   "cell_type": "code",
   "execution_count": 3,
   "metadata": {},
   "outputs": [],
   "source": [
    "import datagen"
   ]
  },
  {
   "cell_type": "code",
   "execution_count": 40,
   "metadata": {},
   "outputs": [],
   "source": [
    "import importlib\n",
    "datagen = importlib.reload(datagen)"
   ]
  },
  {
   "cell_type": "code",
   "execution_count": 41,
   "metadata": {},
   "outputs": [
    {
     "name": "stdout",
     "output_type": "stream",
     "text": [
      "4800\n",
      "now listing inputs\n",
      "['x_0.npy']\n",
      "now listing outputs\n",
      "['y_0.npy']\n"
     ]
    }
   ],
   "source": [
    "test_generator= datagen.DataGenerator('./test_data_proc/', 100,256, 7, 'x_[0-9]+.npy', 'y_[0-9]+.npy')"
   ]
  },
  {
   "cell_type": "code",
   "execution_count": 42,
   "metadata": {},
   "outputs": [
    {
     "name": "stdout",
     "output_type": "stream",
     "text": [
      "48\n",
      "y_0.npy\n",
      "one up\n"
     ]
    }
   ],
   "source": [
    "print(test_generator.__len__())\n",
    "predictions = model.predict_generator(generator=test_generator.__getitemtest__(),steps=test_generator.__len__())"
   ]
  },
  {
   "cell_type": "code",
   "execution_count": 37,
   "metadata": {},
   "outputs": [
    {
     "name": "stdout",
     "output_type": "stream",
     "text": [
      "(48, 100, 88)\n"
     ]
    }
   ],
   "source": [
    "print(predictions.shape)"
   ]
  },
  {
   "cell_type": "code",
   "execution_count": 43,
   "metadata": {},
   "outputs": [
    {
     "data": {
      "text/plain": [
       "(4800, 88)"
      ]
     },
     "execution_count": 43,
     "metadata": {},
     "output_type": "execute_result"
    }
   ],
   "source": [
    "predictions = np.reshape(predictions, (predictions.shape[0]*predictions.shape[1], predictions.shape[2]))\n",
    "predictions.shape"
   ]
  },
  {
   "cell_type": "code",
   "execution_count": 44,
   "metadata": {},
   "outputs": [
    {
     "data": {
      "text/plain": [
       "(4800, 88)"
      ]
     },
     "execution_count": 44,
     "metadata": {},
     "output_type": "execute_result"
    }
   ],
   "source": [
    "labels = np.array([item for item in test_generator.__getitemtestlabels__()])[0]\n",
    "labels.shape"
   ]
  },
  {
   "cell_type": "code",
   "execution_count": 45,
   "metadata": {},
   "outputs": [],
   "source": [
    "pm_test = pretty_midi.PrettyMIDI()"
   ]
  },
  {
   "cell_type": "code",
   "execution_count": 11,
   "metadata": {},
   "outputs": [
    {
     "data": {
      "text/plain": [
       "array([0.00093913, 0.00067961, 0.0009608 , ..., 0.00152913, 0.00150517,\n",
       "       0.00210202], dtype=float32)"
      ]
     },
     "execution_count": 11,
     "metadata": {},
     "output_type": "execute_result"
    }
   ],
   "source": [
    "predictions[np.nonzero(predictions)]"
   ]
  },
  {
   "cell_type": "code",
   "execution_count": 46,
   "metadata": {},
   "outputs": [],
   "source": [
    "predictions = np.rint(predictions)"
   ]
  },
  {
   "cell_type": "code",
   "execution_count": 57,
   "metadata": {},
   "outputs": [],
   "source": [
    "import helpers\n",
    "helpers = importlib.reload(helpers)"
   ]
  },
  {
   "cell_type": "code",
   "execution_count": 48,
   "metadata": {},
   "outputs": [],
   "source": [
    "padded =  np.zeros((predictions.shape[0], 128))\n",
    "padded[:, 21:109] = predictions"
   ]
  },
  {
   "cell_type": "code",
   "execution_count": 49,
   "metadata": {},
   "outputs": [
    {
     "data": {
      "text/plain": [
       "array([[0., 0., 0., ..., 0., 0., 0.],\n",
       "       [0., 0., 0., ..., 0., 0., 0.],\n",
       "       [0., 0., 0., ..., 0., 0., 0.],\n",
       "       ...,\n",
       "       [0., 0., 0., ..., 0., 0., 0.],\n",
       "       [0., 0., 0., ..., 0., 0., 0.],\n",
       "       [0., 0., 0., ..., 0., 0., 0.]])"
      ]
     },
     "execution_count": 49,
     "metadata": {},
     "output_type": "execute_result"
    }
   ],
   "source": [
    "padded"
   ]
  },
  {
   "cell_type": "code",
   "execution_count": 50,
   "metadata": {},
   "outputs": [
    {
     "data": {
      "text/plain": [
       "(128, 4800)"
      ]
     },
     "execution_count": 50,
     "metadata": {},
     "output_type": "execute_result"
    }
   ],
   "source": [
    "padded.T.shape"
   ]
  },
  {
   "cell_type": "code",
   "execution_count": 58,
   "metadata": {},
   "outputs": [
    {
     "name": "stdout",
     "output_type": "stream",
     "text": [
      "1 52 1.0 1.03125 \n",
      "1 68 1.28125 1.34375 \n",
      "1 76 1.96875 2.53125 \n",
      "1 73 3.03125 3.1875 \n",
      "1 74 3.09375 3.1875 \n",
      "1 76 3.28125 3.6875 \n",
      "1 76 4.84375 5.0 \n",
      "1 71 5.8125 6.0 \n",
      "1 74 6.21875 6.25 \n",
      "1 73 6.09375 6.28125 \n",
      "1 73 6.59375 6.6875 \n",
      "1 69 7.875 8.0 \n",
      "1 59 9.25 9.34375 \n",
      "1 66 9.40625 9.4375 \n",
      "1 66 9.53125 9.6875 \n",
      "1 66 9.84375 10.0 \n",
      "1 74 9.96875 10.0625 \n",
      "1 74 10.15625 10.1875 \n",
      "1 59 11.0625 11.3125 \n",
      "1 59 11.5625 11.75 \n",
      "1 78 12.5 12.53125 \n",
      "1 81 12.65625 12.6875 \n",
      "1 69 12.5625 12.78125 \n",
      "1 73 12.875 13.03125 \n",
      "1 74 12.9375 13.03125 \n",
      "1 76 13.125 13.15625 \n",
      "1 66 13.34375 13.59375 \n",
      "1 73 13.90625 13.96875 \n",
      "1 78 14.21875 14.3125 \n",
      "1 78 14.6875 14.84375 \n",
      "1 76 15.4375 16.125 \n",
      "1 66 16.5625 16.71875 \n",
      "1 76 17.25 18.03125 \n",
      "1 61 18.59375 18.71875 \n",
      "1 62 18.5625 18.84375 \n",
      "1 59 18.9375 19.0 \n",
      "1 59 19.03125 19.09375 \n",
      "1 55 19.8125 20.15625 \n",
      "1 55 20.28125 20.40625 \n",
      "1 66 21.875 22.25 \n",
      "1 78 22.875 23.0 \n",
      "1 59 23.34375 23.40625 \n",
      "1 59 23.4375 23.625 \n",
      "1 47 25.0 25.09375 \n",
      "1 57 27.78125 28.03125 \n",
      "1 73 28.125 28.25 \n",
      "1 60 29.46875 29.59375 \n",
      "1 62 29.625 29.6875 \n",
      "1 69 30.0 30.09375 \n",
      "1 69 30.28125 30.3125 \n",
      "1 60 30.6875 30.71875 \n",
      "1 69 31.09375 31.21875 \n",
      "1 69 31.25 31.3125 \n",
      "1 60 30.78125 31.625 \n",
      "1 78 31.6875 31.8125 \n",
      "1 60 31.71875 31.875 \n",
      "1 79 32.03125 32.125 \n",
      "1 78 31.875 32.46875 \n",
      "1 61 32.6875 32.75 \n",
      "1 59 32.96875 33.28125 \n",
      "1 59 33.34375 33.46875 \n",
      "1 47 33.34375 33.53125 \n",
      "1 59 34.09375 34.3125 \n",
      "1 57 34.375 34.59375 \n",
      "1 59 34.65625 34.8125 \n",
      "1 57 34.84375 34.9375 \n",
      "1 57 35.0 35.03125 \n",
      "1 55 35.125 35.28125 \n",
      "1 57 35.34375 35.40625 \n",
      "1 59 35.625 35.84375 \n",
      "1 45 37.5 37.5625 \n",
      "1 47 38.59375 38.8125 \n",
      "1 50 40.09375 40.3125 \n",
      "1 66 40.5 40.5625 \n",
      "1 59 42.0 42.15625 \n",
      "1 59 42.53125 42.78125 \n",
      "1 59 43.3125 43.4375 \n",
      "1 59 44.375 44.78125 \n",
      "1 57 44.875 44.90625 \n",
      "1 57 46.09375 46.21875 \n",
      "1 60 47.03125 47.09375 \n",
      "1 69 47.0 47.375 \n",
      "1 62 47.375 47.6875 \n",
      "1 78 48.0 48.21875 \n",
      "1 62 48.40625 48.75 \n",
      "1 60 48.59375 48.84375 \n",
      "1 78 49.1875 49.21875 \n",
      "1 62 50.03125 50.53125 \n",
      "1 59 50.59375 50.90625 \n",
      "1 59 50.96875 51.0 \n",
      "1 57 53.03125 53.25 \n",
      "1 56 53.15625 53.28125 \n",
      "1 57 53.375 53.5625 \n",
      "1 59 54.53125 55.0 \n",
      "1 52 56.15625 56.5 \n",
      "1 52 56.5625 56.90625 \n",
      "1 57 58.0 58.03125 \n",
      "1 57 58.125 58.15625 \n",
      "1 71 59.375 59.5 \n",
      "1 71 59.90625 60.0 \n",
      "1 47 60.125 60.34375 \n",
      "1 66 62.3125 62.5 \n",
      "1 55 63.03125 63.25 \n",
      "1 47 64.6875 64.96875 \n",
      "1 59 64.9375 65.25 \n",
      "1 59 65.59375 65.625 \n",
      "1 55 65.4375 65.8125 \n",
      "1 47 67.09375 67.15625 \n",
      "1 59 67.0 67.5625 \n",
      "1 64 70.3125 70.46875 \n",
      "1 52 70.4375 70.65625 \n",
      "1 64 70.5625 70.71875 \n",
      "1 56 70.71875 70.8125 \n",
      "1 64 70.75 70.875 \n",
      "1 57 71.0 71.0625 \n",
      "1 57 71.4375 71.75 \n",
      "1 40 71.84375 71.875 \n",
      "1 56 71.25 71.875 \n",
      "1 52 71.8125 72.03125 \n",
      "1 52 72.28125 72.34375 \n",
      "1 56 72.09375 72.375 \n",
      "1 64 72.03125 72.375 \n",
      "1 59 72.34375 72.65625 \n",
      "1 62 72.96875 73.8125 \n",
      "1 63 73.90625 73.9375 \n",
      "1 62 73.84375 74.46875 \n",
      "1 57 74.5 74.71875 \n",
      "1 57 74.96875 75.0 \n",
      "1 59 75.5 76.09375 \n",
      "1 40 76.125 77.03125 \n",
      "1 59 76.71875 77.28125 \n",
      "1 40 77.21875 77.5625 \n",
      "1 56 77.25 77.65625 \n",
      "1 59 77.625 81.25 \n",
      "1 66 85.03125 85.53125 \n",
      "1 66 87.5 87.65625 \n",
      "1 67 87.96875 88.0 \n",
      "1 52 91.40625 91.4375 \n",
      "1 62 92.78125 92.84375 \n",
      "1 52 93.8125 93.90625 \n",
      "1 59 95.09375 95.125 \n",
      "1 59 97.0 97.125 \n",
      "1 59 97.71875 97.90625 \n",
      "1 69 98.28125 98.375 \n",
      "1 59 98.96875 99.03125 \n",
      "1 78 99.09375 99.1875 \n",
      "1 76 99.21875 99.3125 \n",
      "1 78 99.625 99.65625 \n",
      "1 59 99.75 99.96875 \n",
      "1 76 99.96875 100.0625 \n",
      "1 76 100.125 100.1875 \n",
      "1 76 100.25 100.3125 \n",
      "1 78 100.25 100.46875 \n",
      "1 81 100.4375 100.59375 \n",
      "1 78 100.5 100.625 \n",
      "1 69 100.375 100.65625 \n",
      "1 69 100.71875 100.8125 \n",
      "1 76 101.03125 101.125 \n",
      "1 69 101.3125 101.8125 \n",
      "1 76 102.40625 102.5625 \n",
      "1 59 102.625 102.71875 \n",
      "1 78 103.34375 103.375 \n",
      "1 78 104.53125 104.6875 \n",
      "1 76 104.875 104.96875 \n",
      "1 55 105.03125 105.1875 \n",
      "1 57 105.15625 105.21875 \n",
      "1 76 105.25 105.71875 \n",
      "1 66 106.09375 106.21875 \n",
      "1 59 107.0625 107.125 \n",
      "1 57 107.1875 107.21875 \n",
      "1 57 107.4375 107.46875 \n",
      "1 55 107.40625 107.5 \n",
      "1 55 108.71875 108.8125 \n",
      "1 64 109.34375 109.375 \n",
      "1 72 109.40625 109.46875 \n",
      "1 76 109.6875 109.875 \n",
      "1 78 109.875 110.09375 \n",
      "1 69 110.0625 110.125 \n",
      "1 74 110.28125 110.375 \n",
      "1 74 110.625 110.65625 \n",
      "1 76 110.65625 110.71875 \n",
      "1 59 110.84375 110.96875 \n",
      "1 76 111.875 112.125 \n",
      "1 76 112.1875 112.34375 \n",
      "1 56 112.34375 112.375 \n",
      "1 71 112.375 112.53125 \n",
      "1 71 112.65625 112.71875 \n",
      "1 71 113.78125 113.875 \n",
      "1 73 114.59375 114.65625 \n",
      "1 74 114.625 114.65625 \n",
      "1 76 114.8125 114.90625 \n",
      "1 66 115.03125 115.09375 \n",
      "1 78 115.0625 115.09375 \n",
      "1 66 115.125 115.21875 \n",
      "1 62 115.1875 115.28125 \n",
      "1 66 115.28125 115.40625 \n",
      "1 81 115.46875 115.53125 \n",
      "1 66 115.5625 115.65625 \n",
      "1 78 115.25 115.6875 \n",
      "1 76 115.71875 115.90625 \n",
      "1 55 116.34375 116.375 \n",
      "1 56 117.3125 117.34375 \n",
      "1 59 117.375 117.46875 \n",
      "1 60 117.40625 117.5 \n",
      "1 60 117.65625 117.75 \n",
      "1 66 118.1875 118.25 \n",
      "1 59 120.0 120.09375 \n",
      "1 57 121.3125 121.46875 \n",
      "1 57 121.6875 121.75 \n",
      "1 57 121.90625 122.03125 \n",
      "1 52 124.96875 125.03125 \n",
      "1 52 125.15625 125.21875 \n",
      "1 52 125.53125 125.59375 \n",
      "1 72 129.625 129.6875 \n",
      "1 66 130.0 130.03125 \n",
      "1 63 130.375 130.4375 \n",
      "1 62 131.15625 131.5 \n",
      "1 59 134.28125 134.34375 \n",
      "1 57 134.375 134.4375 \n",
      "1 59 134.40625 134.71875 \n",
      "1 59 135.6875 135.8125 \n",
      "1 56 135.96875 136.0 \n",
      "1 76 136.34375 136.53125 \n",
      "1 76 136.59375 136.65625 \n",
      "1 78 136.6875 136.875 \n",
      "1 57 137.09375 137.1875 \n",
      "1 54 137.375 137.46875 \n",
      "1 42 137.34375 137.5 \n",
      "1 78 137.46875 137.5 \n",
      "1 69 137.5 137.53125 \n",
      "1 54 137.5 137.59375 \n",
      "1 54 137.625 137.71875 \n",
      "1 69 137.75 137.84375 \n",
      "1 69 137.9375 138.1875 \n",
      "1 83 138.25 138.34375 \n",
      "1 66 138.25 138.375 \n",
      "1 69 138.28125 138.53125 \n",
      "1 66 138.53125 138.59375 \n",
      "1 81 138.875 139.0 \n",
      "1 69 138.625 139.0625 \n",
      "1 72 139.46875 139.6875 \n",
      "1 72 139.71875 139.78125 \n",
      "1 71 140.1875 140.21875 \n",
      "1 40 140.53125 140.59375 \n",
      "1 76 143.15625 143.34375 \n",
      "1 68 143.75 143.78125 \n",
      "1 40 143.75 144.09375 \n",
      "1 56 144.53125 144.59375 \n",
      "1 68 144.5 144.59375 \n",
      "1 64 144.3125 144.6875 \n",
      "1 40 144.1875 144.75 \n",
      "1 68 144.65625 145.0625 \n",
      "1 64 145.34375 146.09375 \n",
      "1 52 146.875 146.90625 \n"
     ]
    }
   ],
   "source": [
    "midi_file_pm = helpers.piano_roll_to_pretty_midi(padded.T, fs=32, program=0)"
   ]
  },
  {
   "cell_type": "code",
   "execution_count": 59,
   "metadata": {},
   "outputs": [],
   "source": [
    "midi_file_pm.write('cohesive.mid')"
   ]
  },
  {
   "cell_type": "code",
   "execution_count": 108,
   "metadata": {},
   "outputs": [
    {
     "name": "stdout",
     "output_type": "stream",
     "text": [
      "(128, 4800)\n"
     ]
    }
   ],
   "source": [
    "print(predictions.T.shape)"
   ]
  },
  {
   "cell_type": "code",
   "execution_count": null,
   "metadata": {},
   "outputs": [],
   "source": []
  }
 ],
 "metadata": {
  "kernelspec": {
   "display_name": "tsom",
   "language": "python",
   "name": "tsom"
  },
  "language_info": {
   "codemirror_mode": {
    "name": "ipython",
    "version": 3
   },
   "file_extension": ".py",
   "mimetype": "text/x-python",
   "name": "python",
   "nbconvert_exporter": "python",
   "pygments_lexer": "ipython3",
   "version": "3.7.3"
  }
 },
 "nbformat": 4,
 "nbformat_minor": 2
}

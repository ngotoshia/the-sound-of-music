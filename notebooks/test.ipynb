{
 "cells": [
  {
   "cell_type": "code",
   "execution_count": 1,
   "metadata": {},
   "outputs": [
    {
     "name": "stderr",
     "output_type": "stream",
     "text": [
      "Using TensorFlow backend.\n"
     ]
    },
    {
     "name": "stdout",
     "output_type": "stream",
     "text": [
      "The autoreload extension is already loaded. To reload it, use:\n",
      "  %reload_ext autoreload\n"
     ]
    }
   ],
   "source": [
    "import numpy as np\n",
    "import keras\n",
    "import pretty_midi\n",
    "import librosa\n",
    "\n",
    "import os\n",
    "import sys\n",
    "import mir_eval\n",
    "import glob\n",
    "\n",
    "import numpy as np\n",
    "import pandas as pd\n",
    "\n",
    "sys.path.append(\"..\")\n",
    "sys.path.append(\"../src\")\n",
    "\n",
    "%load_ext autoreload\n",
    "%autoreload \n",
    "from src import preprocess\n",
    "from src import constants\n",
    "from src import datagen\n",
    "from src.infer import infer_from_processed\n",
    "from src.metrics import pm_to_pitches_intervals, get_f1_score_notes, get_f1_score_frames\n",
    "from src import helpers\n"
   ]
  },
  {
   "cell_type": "code",
   "execution_count": null,
   "metadata": {},
   "outputs": [
    {
     "name": "stdout",
     "output_type": "stream",
     "text": [
      "32\n"
     ]
    }
   ],
   "source": [
    "dirname = '/floyd/input/new_maestro/'\n",
    "preprocess.preprocess(dirname, False)"
   ]
  },
  {
   "cell_type": "code",
   "execution_count": 2,
   "metadata": {},
   "outputs": [],
   "source": [
    "def test_model(model):\n",
    "    test_generator = datagen.DataGenerator(constants.TEST_PROCESSED_DIR, constants.SEQUENCE_SIZE, constants.BATCH_SIZE, constants.CONTEXT_WINDOW_SIZE, 'x_[0-9]+.npy', 'y_[0-9]+.npy')\n",
    "\n",
    "    note_f1s = []\n",
    "    note_precisions = []\n",
    "    note_recalls = []\n",
    "\n",
    "    frame_f1s = []\n",
    "    frame_precisions = []\n",
    "    frame_recalls = []\n",
    "\n",
    "    for sample in glob.glob(os.path.join(constants.TEST_PROCESSED_DIR, 'x_*')):\n",
    "        isolated_filename = sample.split('/')[-1]\n",
    "\n",
    "        gt_file= os.path.join(constants.TEST_PROCESSED_DIR,test_generator.corresponding_y(isolated_filename))\n",
    "        referances = np.load(gt_file, mmap_mode='r')\n",
    "        predictions = infer_from_processed(model, sample)\n",
    "\n",
    "        padded =  np.zeros((predictions.shape[0], 128))\n",
    "        padded[:, 21:109] = predictions\n",
    "        padded =  padded.T\n",
    "        sequence_est = helpers.piano_roll_to_pretty_midi(padded, fs=32, program=0).instruments[0]\n",
    "        padded =  np.zeros((referances.shape[0], 128))\n",
    "        padded[:, 21:109] = referances\n",
    "        padded =  padded.T\n",
    "        sequence_ref = helpers.piano_roll_to_pretty_midi(padded, fs=32, program=0).instruments[0]\n",
    "\n",
    "        est_intervals,est_pitches = pm_to_pitches_intervals(sequence_est)\n",
    "        ref_intervals,ref_pitches = pm_to_pitches_intervals(sequence_ref)\n",
    "\n",
    "        note_precision, note_recall, note_f1 = get_f1_score_notes(ref_intervals, ref_pitches, est_intervals, est_pitches)\n",
    "\n",
    "        frame_precision, frame_recall, frame_f1 = get_f1_score_frames(referances, predictions)\n",
    "\n",
    "\n",
    "        note_f1s.append(note_f1)\n",
    "        note_precisions.append(note_precision)\n",
    "        note_recalls.append(note_recall)\n",
    "\n",
    "        frame_f1s.append(frame_f1)\n",
    "        frame_precisions.append(frame_precision)\n",
    "        frame_recalls.append(frame_recall)\n",
    "\n",
    "\n",
    "    # we calculate mean across all scores as done in Ondets and Frames paper for consistency\n",
    "    avg_note_f1 = np.mean(note_f1s)\n",
    "    avg_note_precision = np.mean(note_precisions)\n",
    "    avg_note_recall = np.mean(note_recalls)\n",
    "\n",
    "    avg_frame_f1 = np.mean(frame_f1s)\n",
    "    avg_frame_precision = np.mean(frame_precisions)\n",
    "    avg_frame_recall = np.mean(frame_recalls)\n",
    "\n",
    "    return {'frame_f1':avg_frame_f1,\n",
    "            'frame_precision':avg_frame_precision, \n",
    "            'frame_recall':avg_frame_recall, \n",
    "            'note_f1':avg_note_f1, \n",
    "            'note_precision':avg_note_precision, \n",
    "            'note_recall':avg_note_recall}\n"
   ]
  },
  {
   "cell_type": "code",
   "execution_count": 3,
   "metadata": {},
   "outputs": [
    {
     "name": "stdout",
     "output_type": "stream",
     "text": [
      "WARNING:tensorflow:From /usr/local/lib/python3.6/site-packages/tensorflow/python/framework/op_def_library.py:263: colocate_with (from tensorflow.python.framework.ops) is deprecated and will be removed in a future version.\n",
      "Instructions for updating:\n",
      "Colocations handled automatically by placer.\n",
      "WARNING:tensorflow:From /usr/local/lib/python3.6/site-packages/keras/backend/tensorflow_backend.py:3445: calling dropout (from tensorflow.python.ops.nn_ops) with keep_prob is deprecated and will be removed in a future version.\n",
      "Instructions for updating:\n",
      "Please use `rate` instead of `keep_prob`. Rate should be set to `rate = 1 - keep_prob`.\n",
      "WARNING:tensorflow:From /usr/local/lib/python3.6/site-packages/tensorflow/python/ops/math_ops.py:3066: to_int32 (from tensorflow.python.ops.math_ops) is deprecated and will be removed in a future version.\n",
      "Instructions for updating:\n",
      "Use tf.cast instead.\n"
     ]
    }
   ],
   "source": [
    "metrics_lstm = test_model('/floyd/home/lstm_model.h5')"
   ]
  },
  {
   "cell_type": "code",
   "execution_count": 5,
   "metadata": {},
   "outputs": [
    {
     "data": {
      "text/html": [
       "<div>\n",
       "<style scoped>\n",
       "    .dataframe tbody tr th:only-of-type {\n",
       "        vertical-align: middle;\n",
       "    }\n",
       "\n",
       "    .dataframe tbody tr th {\n",
       "        vertical-align: top;\n",
       "    }\n",
       "\n",
       "    .dataframe thead th {\n",
       "        text-align: right;\n",
       "    }\n",
       "</style>\n",
       "<table border=\"1\" class=\"dataframe\">\n",
       "  <thead>\n",
       "    <tr style=\"text-align: right;\">\n",
       "      <th></th>\n",
       "      <th>Precison</th>\n",
       "      <th>Recall</th>\n",
       "      <th>F1</th>\n",
       "    </tr>\n",
       "    <tr>\n",
       "      <th></th>\n",
       "      <th></th>\n",
       "      <th></th>\n",
       "      <th></th>\n",
       "    </tr>\n",
       "  </thead>\n",
       "  <tbody>\n",
       "    <tr>\n",
       "      <th>Frame</th>\n",
       "      <td>0.755206</td>\n",
       "      <td>0.751454</td>\n",
       "      <td>0.750039</td>\n",
       "    </tr>\n",
       "    <tr>\n",
       "      <th>Note</th>\n",
       "      <td>0.637897</td>\n",
       "      <td>0.478511</td>\n",
       "      <td>0.540015</td>\n",
       "    </tr>\n",
       "  </tbody>\n",
       "</table>\n",
       "</div>"
      ],
      "text/plain": [
       "       Precison    Recall        F1\n",
       "                                   \n",
       "Frame  0.755206  0.751454  0.750039\n",
       "Note   0.637897  0.478511  0.540015"
      ]
     },
     "execution_count": 5,
     "metadata": {},
     "output_type": "execute_result"
    }
   ],
   "source": [
    "lstm_eval = pd.DataFrame({'Precison' : [metrics_lstm['frame_precision'],metrics_lstm['note_precision']], \n",
    "                   'Recall' : [metrics_lstm['frame_recall'],metrics_lstm['note_recall']],\n",
    "                   'F1' : [metrics_lstm['frame_f1'],metrics_lstm['note_f1']],\n",
    "                    '':['Frame', 'Note']})\n",
    "\n",
    "lstm_eval.set_index('')"
   ]
  },
  {
   "cell_type": "code",
   "execution_count": 3,
   "metadata": {},
   "outputs": [
    {
     "name": "stdout",
     "output_type": "stream",
     "text": [
      "WARNING:tensorflow:From /usr/local/lib/python3.6/site-packages/tensorflow/python/framework/op_def_library.py:263: colocate_with (from tensorflow.python.framework.ops) is deprecated and will be removed in a future version.\n",
      "Instructions for updating:\n",
      "Colocations handled automatically by placer.\n",
      "WARNING:tensorflow:From /usr/local/lib/python3.6/site-packages/keras/backend/tensorflow_backend.py:3445: calling dropout (from tensorflow.python.ops.nn_ops) with keep_prob is deprecated and will be removed in a future version.\n",
      "Instructions for updating:\n",
      "Please use `rate` instead of `keep_prob`. Rate should be set to `rate = 1 - keep_prob`.\n",
      "WARNING:tensorflow:From /usr/local/lib/python3.6/site-packages/tensorflow/python/ops/math_ops.py:3066: to_int32 (from tensorflow.python.ops.math_ops) is deprecated and will be removed in a future version.\n",
      "Instructions for updating:\n",
      "Use tf.cast instead.\n"
     ]
    }
   ],
   "source": [
    "metrics_gru = test_model('/floyd/home/gru_model.h5')"
   ]
  },
  {
   "cell_type": "code",
   "execution_count": 4,
   "metadata": {},
   "outputs": [
    {
     "data": {
      "text/html": [
       "<div>\n",
       "<style scoped>\n",
       "    .dataframe tbody tr th:only-of-type {\n",
       "        vertical-align: middle;\n",
       "    }\n",
       "\n",
       "    .dataframe tbody tr th {\n",
       "        vertical-align: top;\n",
       "    }\n",
       "\n",
       "    .dataframe thead th {\n",
       "        text-align: right;\n",
       "    }\n",
       "</style>\n",
       "<table border=\"1\" class=\"dataframe\">\n",
       "  <thead>\n",
       "    <tr style=\"text-align: right;\">\n",
       "      <th></th>\n",
       "      <th>Precison</th>\n",
       "      <th>Recall</th>\n",
       "      <th>F1</th>\n",
       "    </tr>\n",
       "    <tr>\n",
       "      <th></th>\n",
       "      <th></th>\n",
       "      <th></th>\n",
       "      <th></th>\n",
       "    </tr>\n",
       "  </thead>\n",
       "  <tbody>\n",
       "    <tr>\n",
       "      <th>Frame</th>\n",
       "      <td>0.808718</td>\n",
       "      <td>0.660518</td>\n",
       "      <td>0.706780</td>\n",
       "    </tr>\n",
       "    <tr>\n",
       "      <th>Note</th>\n",
       "      <td>0.772961</td>\n",
       "      <td>0.490126</td>\n",
       "      <td>0.589751</td>\n",
       "    </tr>\n",
       "  </tbody>\n",
       "</table>\n",
       "</div>"
      ],
      "text/plain": [
       "       Precison    Recall        F1\n",
       "                                   \n",
       "Frame  0.808718  0.660518  0.706780\n",
       "Note   0.772961  0.490126  0.589751"
      ]
     },
     "execution_count": 4,
     "metadata": {},
     "output_type": "execute_result"
    }
   ],
   "source": [
    "gru_eval = pd.DataFrame({'Precison' : [metrics_gru['frame_precision'],metrics_gru['note_precision']], \n",
    "                   'Recall' : [metrics_gru['frame_recall'],metrics_gru['note_recall']],\n",
    "                   'F1' : [metrics_gru['frame_f1'],metrics_gru['note_f1']],\n",
    "                    '':['Frame', 'Note']})\n",
    "\n",
    "\n",
    "gru_eval.set_index('')"
   ]
  },
  {
   "cell_type": "code",
   "execution_count": null,
   "metadata": {},
   "outputs": [],
   "source": []
  }
 ],
 "metadata": {
  "kernelspec": {
   "display_name": "Python 3",
   "language": "python",
   "name": "python3"
  },
  "language_info": {
   "codemirror_mode": {
    "name": "ipython",
    "version": 3
   },
   "file_extension": ".py",
   "mimetype": "text/x-python",
   "name": "python",
   "nbconvert_exporter": "python",
   "pygments_lexer": "ipython3",
   "version": "3.6.5"
  }
 },
 "nbformat": 4,
 "nbformat_minor": 2
}

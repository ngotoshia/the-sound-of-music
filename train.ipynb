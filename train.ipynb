{
 "cells": [
  {
   "cell_type": "code",
   "execution_count": 2,
   "metadata": {},
   "outputs": [],
   "source": [
    "import os \n",
    "\n",
    "import numpy as np\n",
    "import matplotlib.pyplot as plt\n",
    "import keras\n",
    "from keras.models import Sequential\n",
    "from keras.layers import TimeDistributed, Dense, Conv2D, MaxPooling2D, Dropout, LSTM, Bidirectional, Flatten \n",
    "from sklearn.metrics import auc, f1_score, precision_score, recall_score, roc_curve\n"
   ]
  },
  {
   "cell_type": "code",
   "execution_count": 3,
   "metadata": {},
   "outputs": [
    {
     "name": "stdout",
     "output_type": "stream",
     "text": [
      "(11441, 88)\n",
      "(11441, 88)\n",
      "(4751, 88)\n",
      "(4751, 88)\n"
     ]
    }
   ],
   "source": [
    "x_train = np.load(os.path.join('train_data_proc','x_train.npy'))\n",
    "y_train = np.load(os.path.join('train_data_proc', 'y_train.npy'))\n",
    "\n",
    "x_test = np.load(os.path.join('test_data_proc','x_test.npy'))\n",
    "y_test = np.load(os.path.join('test_data_proc', 'y_test.npy'))\n",
    "\n",
    "print(x_train.shape)\n",
    "print(y_train.shape)\n",
    "\n",
    "print(x_test.shape)\n",
    "print(y_test.shape)"
   ]
  },
  {
   "cell_type": "code",
   "execution_count": 4,
   "metadata": {},
   "outputs": [],
   "source": [
    "context_window_size = 7\n",
    "frequencies_size = x_train.shape[1]\n",
    "sequence_size = 100\n",
    "batch_size = 1\n",
    "\n",
    "output_shape = y_train.shape[1]"
   ]
  },
  {
   "cell_type": "code",
   "execution_count": 5,
   "metadata": {},
   "outputs": [],
   "source": [
    "keras.backend.clear_session()"
   ]
  },
  {
   "cell_type": "code",
   "execution_count": 6,
   "metadata": {},
   "outputs": [
    {
     "name": "stdout",
     "output_type": "stream",
     "text": [
      "WARNING:tensorflow:From /home/nini/anaconda3/envs/tsom/lib/python3.7/site-packages/tensorflow/python/framework/op_def_library.py:263: colocate_with (from tensorflow.python.framework.ops) is deprecated and will be removed in a future version.\n",
      "Instructions for updating:\n",
      "Colocations handled automatically by placer.\n",
      "WARNING:tensorflow:From /home/nini/anaconda3/envs/tsom/lib/python3.7/site-packages/keras/backend/tensorflow_backend.py:3445: calling dropout (from tensorflow.python.ops.nn_ops) with keep_prob is deprecated and will be removed in a future version.\n",
      "Instructions for updating:\n",
      "Please use `rate` instead of `keep_prob`. Rate should be set to `rate = 1 - keep_prob`.\n"
     ]
    }
   ],
   "source": [
    "model = Sequential()\n",
    "model.add(TimeDistributed(\n",
    "    Conv2D(64, (3,3), activation='relu'), \\\n",
    "           input_shape=( sequence_size, context_window_size,frequencies_size,1)\n",
    "    )\n",
    ")\n",
    "model.add(Dropout(0.5))\n",
    "model.add(TimeDistributed(MaxPooling2D((1,3), strides=(1,1))))\n",
    "          \n",
    "model.add(TimeDistributed(Conv2D(128, (1,3), activation='relu')))\n",
    "model.add(Dropout(0.5))\n",
    "model.add(TimeDistributed(MaxPooling2D((1,3), strides=(1,1))))\n",
    "\n",
    "model.add(TimeDistributed(Flatten()))\n",
    "\n",
    "model.add(TimeDistributed(Dense(200)))\n",
    "model.add(Dropout(0.5))\n",
    "\n",
    "# model.add(Bidirectional(LSTM(128, return_sequences=False, dropout=0.5), merge_mode ='ave'))\n",
    "\n",
    "model.add(TimeDistributed(Dense(output_shape, activation='sigmoid')))\n",
    "model.compile(loss='categorical_crossentropy', optimizer='adam')\n",
    "          \n"
   ]
  },
  {
   "cell_type": "code",
   "execution_count": 7,
   "metadata": {},
   "outputs": [
    {
     "name": "stdout",
     "output_type": "stream",
     "text": [
      "[(<tf.Tensor 'time_distributed_1_input:0' shape=(?, 100, 7, 88, 1) dtype=float32>, <tf.Tensor 'time_distributed_1/Reshape_1:0' shape=(?, 100, 5, 86, 64) dtype=float32>), (<tf.Tensor 'time_distributed_1/Reshape_1:0' shape=(?, 100, 5, 86, 64) dtype=float32>, <tf.Tensor 'dropout_1/cond/Merge:0' shape=(?, 100, 5, 86, 64) dtype=float32>), (<tf.Tensor 'dropout_1/cond/Merge:0' shape=(?, 100, 5, 86, 64) dtype=float32>, <tf.Tensor 'time_distributed_2/Reshape_1:0' shape=(?, 100, 5, 84, 64) dtype=float32>), (<tf.Tensor 'time_distributed_2/Reshape_1:0' shape=(?, 100, 5, 84, 64) dtype=float32>, <tf.Tensor 'time_distributed_3/Reshape_1:0' shape=(?, 100, 5, 82, 128) dtype=float32>), (<tf.Tensor 'time_distributed_3/Reshape_1:0' shape=(?, 100, 5, 82, 128) dtype=float32>, <tf.Tensor 'dropout_2/cond/Merge:0' shape=(?, 100, 5, 82, 128) dtype=float32>), (<tf.Tensor 'dropout_2/cond/Merge:0' shape=(?, 100, 5, 82, 128) dtype=float32>, <tf.Tensor 'time_distributed_4/Reshape_1:0' shape=(?, 100, 5, 80, 128) dtype=float32>), (<tf.Tensor 'time_distributed_4/Reshape_1:0' shape=(?, 100, 5, 80, 128) dtype=float32>, <tf.Tensor 'time_distributed_5/Reshape_2:0' shape=(?, 100, 51200) dtype=float32>), (<tf.Tensor 'time_distributed_5/Reshape_2:0' shape=(?, 100, 51200) dtype=float32>, <tf.Tensor 'time_distributed_6/Reshape_1:0' shape=(?, 100, 200) dtype=float32>), (<tf.Tensor 'time_distributed_6/Reshape_1:0' shape=(?, 100, 200) dtype=float32>, <tf.Tensor 'dropout_3/cond/Merge:0' shape=(?, 100, 200) dtype=float32>), (<tf.Tensor 'dropout_3/cond/Merge:0' shape=(?, 100, 200) dtype=float32>, <tf.Tensor 'time_distributed_7/Reshape_1:0' shape=(?, 100, 88) dtype=float32>)]\n"
     ]
    }
   ],
   "source": [
    "inp = model.input                                           # input placeholder\n",
    "outputs = [(layer.input,layer.output) for layer in model.layers]          # all layer outputs\n",
    "print (outputs)"
   ]
  },
  {
   "cell_type": "code",
   "execution_count": 49,
   "metadata": {},
   "outputs": [],
   "source": []
  },
  {
   "cell_type": "code",
   "execution_count": null,
   "metadata": {},
   "outputs": [],
   "source": []
  }
 ],
 "metadata": {
  "kernelspec": {
   "display_name": "tsom",
   "language": "python",
   "name": "tsom"
  },
  "language_info": {
   "codemirror_mode": {
    "name": "ipython",
    "version": 3
   },
   "file_extension": ".py",
   "mimetype": "text/x-python",
   "name": "python",
   "nbconvert_exporter": "python",
   "pygments_lexer": "ipython3",
   "version": "3.7.3"
  }
 },
 "nbformat": 4,
 "nbformat_minor": 2
}
